{
  "cells": [
    {
      "cell_type": "code",
      "execution_count": 1,
      "metadata": {
        "colab": {
          "base_uri": "https://localhost:8080/"
        },
        "id": "pPyqgZXrQ-xz",
        "outputId": "39354114-12b2-4b5b-dcbb-17af169d6bed"
      },
      "outputs": [
        {
          "name": "stdout",
          "output_type": "stream",
          "text": [
            "Sun Oct 23 01:29:46 2022       \n",
            "+-----------------------------------------------------------------------------+\n",
            "| NVIDIA-SMI 520.56.06    Driver Version: 522.30       CUDA Version: 11.8     |\n",
            "|-------------------------------+----------------------+----------------------+\n",
            "| GPU  Name        Persistence-M| Bus-Id        Disp.A | Volatile Uncorr. ECC |\n",
            "| Fan  Temp  Perf  Pwr:Usage/Cap|         Memory-Usage | GPU-Util  Compute M. |\n",
            "|                               |                      |               MIG M. |\n",
            "|===============================+======================+======================|\n",
            "|   0  NVIDIA GeForce ...  On   | 00000000:04:00.0 Off |                  N/A |\n",
            "|  0%   42C    P8    17W / 200W |      0MiB /  8192MiB |      0%      Default |\n",
            "|                               |                      |                  N/A |\n",
            "+-------------------------------+----------------------+----------------------+\n",
            "                                                                               \n",
            "+-----------------------------------------------------------------------------+\n",
            "| Processes:                                                                  |\n",
            "|  GPU   GI   CI        PID   Type   Process name                  GPU Memory |\n",
            "|        ID   ID                                                   Usage      |\n",
            "|=============================================================================|\n",
            "|  No running processes found                                                 |\n",
            "+-----------------------------------------------------------------------------+\n"
          ]
        }
      ],
      "source": [
        "!nvidia-smi\n",
        "# 아무것도 안넣은 결과\n",
        "# smart pad 결과\n",
        "# 시형님 데이터 샘플링 코드 적용 결과\n"
      ]
    },
    {
      "cell_type": "code",
      "execution_count": 2,
      "metadata": {
        "id": "xbq86cvRsJEt"
      },
      "outputs": [
        {
          "name": "stderr",
          "output_type": "stream",
          "text": [
            "/opt/conda/lib/python3.7/site-packages/tqdm/auto.py:22: TqdmWarning: IProgress not found. Please update jupyter and ipywidgets. See https://ipywidgets.readthedocs.io/en/stable/user_install.html\n",
            "  from .autonotebook import tqdm as notebook_tqdm\n"
          ]
        }
      ],
      "source": [
        "import glob\n",
        "import cv2\n",
        "import pandas as pd\n",
        "import matplotlib.pyplot as plt\n",
        "import argparse\n",
        "import random\n",
        "import os, sys\n",
        "import numpy as np\n",
        "import torch\n",
        "import torch.nn as nn\n",
        "import torch.optim as optim\n",
        "import torch.nn.functional as F\n",
        "from torch.utils.data import Dataset, DataLoader\n",
        "\n",
        "from tqdm import tqdm\n",
        "\n",
        "import albumentations as A\n",
        "from albumentations.pytorch.transforms import ToTensorV2\n",
        "\n",
        "import torchvision.models as models\n",
        "\n",
        "from sklearn import preprocessing\n",
        "sys.path.append('../') # import를 위해 경로추가\n",
        "from Modules import Utility as U\n",
        "from Modules import CustomDataset \n",
        "from Modules import SmartPad\n",
        "#torch.backends.cudnn.enabled = False"
      ]
    },
    {
      "cell_type": "code",
      "execution_count": 3,
      "metadata": {
        "colab": {
          "base_uri": "https://localhost:8080/"
        },
        "id": "SWoALKkyRqgQ",
        "outputId": "bd24883e-73c5-4096-cb7e-c677a4875d44"
      },
      "outputs": [
        {
          "data": {
            "text/plain": [
              "Namespace(batch_size=20, data_path='../data/', device='cuda', epochs=20, img_size=256, lr=0.0001, save_name='effnet_b4_300_smart_pad', seed=41)"
            ]
          },
          "execution_count": 3,
          "metadata": {},
          "output_type": "execute_result"
        }
      ],
      "source": [
        "parser = argparse.ArgumentParser()\n",
        "parser.add_argument('--epochs', type=int, default=20)\n",
        "parser.add_argument('--lr', type=float, default=1e-4)\n",
        "parser.add_argument('--batch_size', type=int, default=20)\n",
        "parser.add_argument('--seed', type=int, default=41)\n",
        "parser.add_argument('--img_size', type=int, default=256)\n",
        "parser.add_argument('--device', default='cuda')\n",
        "parser.add_argument('--data_path', type=str, default='../data/')\n",
        "parser.add_argument('--save_name', type=str, default=\"effnet_b4_300_smart_pad\")\n",
        "\n",
        "args = parser.parse_args('')\n",
        "args"
      ]
    },
    {
      "cell_type": "code",
      "execution_count": 4,
      "metadata": {
        "id": "kcmNNyG2RsGF"
      },
      "outputs": [],
      "source": [
        "U.seed_everything(args.seed)"
      ]
    },
    {
      "cell_type": "code",
      "execution_count": 5,
      "metadata": {
        "colab": {
          "base_uri": "https://localhost:8080/"
        },
        "id": "JGlP_m0ZRt5r",
        "outputId": "850f3708-eae9-42a7-9234-dc838db2f5e8"
      },
      "outputs": [],
      "source": [
        "df = pd.read_csv(args.data_path+'train_repaired.csv')"
      ]
    },
    {
      "cell_type": "code",
      "execution_count": 6,
      "metadata": {
        "colab": {
          "base_uri": "https://localhost:8080/",
          "height": 206
        },
        "id": "v6YLbdEARvkM",
        "outputId": "d60f7a0f-da59-4b3d-da7a-6b7e26abc64a"
      },
      "outputs": [
        {
          "data": {
            "text/html": [
              "<div>\n",
              "<style scoped>\n",
              "    .dataframe tbody tr th:only-of-type {\n",
              "        vertical-align: middle;\n",
              "    }\n",
              "\n",
              "    .dataframe tbody tr th {\n",
              "        vertical-align: top;\n",
              "    }\n",
              "\n",
              "    .dataframe thead th {\n",
              "        text-align: right;\n",
              "    }\n",
              "</style>\n",
              "<table border=\"1\" class=\"dataframe\">\n",
              "  <thead>\n",
              "    <tr style=\"text-align: right;\">\n",
              "      <th></th>\n",
              "      <th>id</th>\n",
              "      <th>img_path</th>\n",
              "      <th>artist</th>\n",
              "    </tr>\n",
              "  </thead>\n",
              "  <tbody>\n",
              "    <tr>\n",
              "      <th>0</th>\n",
              "      <td>0</td>\n",
              "      <td>./train/0000.jpg</td>\n",
              "      <td>9</td>\n",
              "    </tr>\n",
              "    <tr>\n",
              "      <th>1</th>\n",
              "      <td>1</td>\n",
              "      <td>./train/0001.jpg</td>\n",
              "      <td>48</td>\n",
              "    </tr>\n",
              "    <tr>\n",
              "      <th>2</th>\n",
              "      <td>2</td>\n",
              "      <td>./train/0002.jpg</td>\n",
              "      <td>7</td>\n",
              "    </tr>\n",
              "    <tr>\n",
              "      <th>3</th>\n",
              "      <td>3</td>\n",
              "      <td>./train/0003.jpg</td>\n",
              "      <td>10</td>\n",
              "    </tr>\n",
              "    <tr>\n",
              "      <th>4</th>\n",
              "      <td>4</td>\n",
              "      <td>./train/0004.jpg</td>\n",
              "      <td>24</td>\n",
              "    </tr>\n",
              "  </tbody>\n",
              "</table>\n",
              "</div>"
            ],
            "text/plain": [
              "   id          img_path  artist\n",
              "0   0  ./train/0000.jpg       9\n",
              "1   1  ./train/0001.jpg      48\n",
              "2   2  ./train/0002.jpg       7\n",
              "3   3  ./train/0003.jpg      10\n",
              "4   4  ./train/0004.jpg      24"
            ]
          },
          "execution_count": 6,
          "metadata": {},
          "output_type": "execute_result"
        }
      ],
      "source": [
        "le = preprocessing.LabelEncoder()\n",
        "df['artist'] = le.fit_transform(df['artist'].values)\n",
        "df.head()"
      ]
    },
    {
      "cell_type": "code",
      "execution_count": 7,
      "metadata": {
        "id": "Iqiiw_9hRzNN"
      },
      "outputs": [],
      "source": [
        "train_df, val_df, _, _ = U.train_test_split(df, df['artist'].values, test_size=0.2, random_state=args.seed)"
      ]
    },
    {
      "cell_type": "code",
      "execution_count": 8,
      "metadata": {
        "id": "dHBmouUPR6ET"
      },
      "outputs": [],
      "source": [
        "train_img_paths, train_labels = U.get_data(train_df)\n",
        "val_img_paths, val_labels = U.get_data(val_df)"
      ]
    },
    {
      "cell_type": "code",
      "execution_count": 9,
      "metadata": {
        "id": "b1N3W_rmR_mF"
      },
      "outputs": [],
      "source": [
        "# random flip\n",
        "train_transform = A.Compose([\n",
        "                            # SmartPad(),\n",
        "                            A.Resize(args.img_size, args.img_size),\n",
        "                            # A.RandomResizedCrop(height = args.img_size, \n",
        "                            #                     width = args.img_size,\n",
        "                            #                     scale = (0.8,1)),\n",
        "                            # A.HorizontalFlip(),\n",
        "                            A.Normalize(mean=(0.485, 0.456, 0.406), std=(0.229, 0.224, 0.225), max_pixel_value=255.0, always_apply=False, p=1.0),\n",
        "                            ToTensorV2()\n",
        "                            ])\n",
        "\n",
        "test_transform = A.Compose([\n",
        "                            # SmartPad(),\n",
        "                            A.Resize(args.img_size,args.img_size),\n",
        "                            A.Normalize(mean=(0.485, 0.456, 0.406), std=(0.229, 0.224, 0.225), max_pixel_value=255.0, always_apply=False, p=1.0),\n",
        "                            ToTensorV2()\n",
        "                            ])"
      ]
    },
    {
      "cell_type": "code",
      "execution_count": 10,
      "metadata": {
        "id": "-1XfSnVgSBsm"
      },
      "outputs": [],
      "source": [
        "train_dataset = CustomDataset(args.data_path, train_img_paths, train_labels, train_transform)\n",
        "train_loader = DataLoader(train_dataset, batch_size = args.batch_size, shuffle=True, num_workers=0)\n",
        "\n",
        "val_dataset = CustomDataset(args.data_path, val_img_paths, val_labels, test_transform)\n",
        "val_loader = DataLoader(val_dataset, batch_size=args.batch_size, shuffle=False, num_workers=0)"
      ]
    },
    {
      "cell_type": "code",
      "execution_count": 11,
      "metadata": {},
      "outputs": [],
      "source": [
        "class CustomModel(nn.Module):\n",
        "    def __init__(self, number_of_classes :int):\n",
        "        super(CustomModel, self).__init__()\n",
        "        self.backborn = models.resnet101(pretrained=True)\n",
        "        # for p in self.backborn.parameters():\n",
        "        #     p.requires_grad = False\n",
        "        self.classifier = nn.Sequential(\n",
        "            nn.Linear(1000, 512),\n",
        "            nn.BatchNorm1d(512),\n",
        "            nn.LeakyReLU(0.2),\n",
        "            nn.Dropout(p=0.2),\n",
        "            nn.Linear(512, number_of_classes)\n",
        "        )\n",
        "        \n",
        "    def forward(self, x):\n",
        "        x = self.backborn(x)\n",
        "        x = self.classifier(x)\n",
        "        return x"
      ]
    },
    {
      "cell_type": "code",
      "execution_count": 12,
      "metadata": {
        "colab": {
          "base_uri": "https://localhost:8080/"
        },
        "id": "3O4h-1DB0wLr",
        "outputId": "1f089bc5-3586-468e-ecb9-c4df72470d2c"
      },
      "outputs": [],
      "source": [
        "target_model = CustomModel(50)"
      ]
    },
    {
      "cell_type": "code",
      "execution_count": 13,
      "metadata": {
        "id": "Fm_C6nqCSIK9"
      },
      "outputs": [],
      "source": [
        "def validation(model, criterion, test_loader, device):\n",
        "    model.eval()\n",
        "    \n",
        "    model_preds = []\n",
        "    true_labels = []\n",
        "    \n",
        "    val_loss = []\n",
        "    \n",
        "    with torch.no_grad():\n",
        "        for item in tqdm(test_loader):\n",
        "            img = item['image']\n",
        "            label = item['label']\n",
        "            h = item['height']\n",
        "            w = item['width']\n",
        "            img, label = img.float().to(device), label.to(device)\n",
        "            model_pred = model(img)\n",
        "            \n",
        "            loss = criterion(model_pred, label)\n",
        "            \n",
        "            val_loss.append(loss.item())\n",
        "            \n",
        "            model_preds += model_pred.argmax(1).detach().cpu().numpy().tolist()\n",
        "            true_labels += label.detach().cpu().numpy().tolist()\n",
        "        \n",
        "    val_f1 = U.competition_metric(true_labels, model_preds)\n",
        "    return np.mean(val_loss), val_f1"
      ]
    },
    {
      "cell_type": "code",
      "execution_count": 14,
      "metadata": {
        "id": "plqxgpx9SKZI"
      },
      "outputs": [],
      "source": [
        "def train(model, optimizer, train_loader, test_loader, scheduler, device):\n",
        "    model.to(device)\n",
        "\n",
        "    criterion = nn.CrossEntropyLoss().to(device)\n",
        "    \n",
        "    best_score = 0\n",
        "    best_model = None\n",
        "    \n",
        "    for epoch in range(1, args.epochs+1):\n",
        "        model.train()\n",
        "        train_loss = []\n",
        "        for item in tqdm(train_loader):\n",
        "            img = item['image']\n",
        "            label = item['label']\n",
        "            h = item['height']\n",
        "            w = item['width']\n",
        "            img, label = img.float().to(device), label.to(device)\n",
        "            optimizer.zero_grad()\n",
        "\n",
        "            model_pred = model(img)\n",
        "            \n",
        "            loss = criterion(model_pred, label)\n",
        "\n",
        "            loss.backward()\n",
        "            optimizer.step()\n",
        "\n",
        "            train_loss.append(loss.item())\n",
        "\n",
        "        tr_loss = np.mean(train_loss)\n",
        "            \n",
        "        val_loss, val_score = validation(model, criterion, test_loader, device)\n",
        "            \n",
        "        print(f'Epoch [{epoch}], Train Loss : [{tr_loss:.5f}] Val Loss : [{val_loss:.5f}] Val F1 Score : [{val_score:.5f}]')\n",
        "        \n",
        "        if scheduler is not None:\n",
        "            scheduler.step()\n",
        "            \n",
        "        if best_score < val_score:\n",
        "            best_model = model\n",
        "            best_score = val_score\n",
        "        \n",
        "    return best_model"
      ]
    },
    {
      "cell_type": "code",
      "execution_count": 15,
      "metadata": {
        "colab": {
          "base_uri": "https://localhost:8080/",
          "height": 1000,
          "referenced_widgets": [
            "a6405d37ce2e40a0b4b399c229f697c5",
            "286a6e7a9c8a4e7498850715ef377b07",
            "93d832c02ce8494386a56b050359e831",
            "de37f413369b47e586cf884ac69cb002",
            "81e45d950a6748adab8355a79b364979",
            "048522454c2047b4a3e1e1edb0263e55",
            "fce015cf399e4c4fa5ce8e53691a0a74",
            "58951227e5f440308ce33a95ff89b887",
            "99d59e7b6e14407ba0bb8653f2559fe9",
            "75c0cbcd69904d83beeb993098c4b335",
            "f801f5145989475fb09a38b02f93cfd7"
          ]
        },
        "id": "MqFO0NQ9SNaw",
        "outputId": "abc38534-ed16-48ed-d01e-1f3f15f00569"
      },
      "outputs": [
        {
          "name": "stderr",
          "output_type": "stream",
          "text": [
            "100%|██████████| 237/237 [01:50<00:00,  2.15it/s]\n",
            "100%|██████████| 60/60 [00:20<00:00,  2.94it/s]\n"
          ]
        },
        {
          "name": "stdout",
          "output_type": "stream",
          "text": [
            "Epoch [1], Train Loss : [2.24008] Val Loss : [1.44964] Val F1 Score : [0.44144]\n"
          ]
        },
        {
          "name": "stderr",
          "output_type": "stream",
          "text": [
            "100%|██████████| 237/237 [01:45<00:00,  2.25it/s]\n",
            "100%|██████████| 60/60 [00:20<00:00,  2.99it/s]\n"
          ]
        },
        {
          "name": "stdout",
          "output_type": "stream",
          "text": [
            "Epoch [2], Train Loss : [1.04976] Val Loss : [1.35924] Val F1 Score : [0.52604]\n"
          ]
        },
        {
          "name": "stderr",
          "output_type": "stream",
          "text": [
            "100%|██████████| 237/237 [01:45<00:00,  2.25it/s]\n",
            "100%|██████████| 60/60 [00:20<00:00,  3.00it/s]\n"
          ]
        },
        {
          "name": "stdout",
          "output_type": "stream",
          "text": [
            "Epoch [3], Train Loss : [0.53875] Val Loss : [1.08807] Val F1 Score : [0.63695]\n"
          ]
        },
        {
          "name": "stderr",
          "output_type": "stream",
          "text": [
            "100%|██████████| 237/237 [01:45<00:00,  2.24it/s]\n",
            "100%|██████████| 60/60 [00:20<00:00,  3.00it/s]\n"
          ]
        },
        {
          "name": "stdout",
          "output_type": "stream",
          "text": [
            "Epoch [4], Train Loss : [0.25198] Val Loss : [1.07396] Val F1 Score : [0.63966]\n"
          ]
        },
        {
          "name": "stderr",
          "output_type": "stream",
          "text": [
            "100%|██████████| 237/237 [01:45<00:00,  2.25it/s]\n",
            "100%|██████████| 60/60 [00:20<00:00,  2.98it/s]\n"
          ]
        },
        {
          "name": "stdout",
          "output_type": "stream",
          "text": [
            "Epoch [5], Train Loss : [0.14911] Val Loss : [1.01288] Val F1 Score : [0.65685]\n"
          ]
        },
        {
          "name": "stderr",
          "output_type": "stream",
          "text": [
            "100%|██████████| 237/237 [01:45<00:00,  2.25it/s]\n",
            "100%|██████████| 60/60 [00:20<00:00,  3.00it/s]\n"
          ]
        },
        {
          "name": "stdout",
          "output_type": "stream",
          "text": [
            "Epoch [6], Train Loss : [0.14844] Val Loss : [1.09635] Val F1 Score : [0.62357]\n"
          ]
        },
        {
          "name": "stderr",
          "output_type": "stream",
          "text": [
            "100%|██████████| 237/237 [01:45<00:00,  2.24it/s]\n",
            "100%|██████████| 60/60 [00:20<00:00,  2.99it/s]\n"
          ]
        },
        {
          "name": "stdout",
          "output_type": "stream",
          "text": [
            "Epoch [7], Train Loss : [0.15239] Val Loss : [1.18006] Val F1 Score : [0.61181]\n"
          ]
        },
        {
          "name": "stderr",
          "output_type": "stream",
          "text": [
            "100%|██████████| 237/237 [01:45<00:00,  2.24it/s]\n",
            "100%|██████████| 60/60 [00:20<00:00,  2.99it/s]\n"
          ]
        },
        {
          "name": "stdout",
          "output_type": "stream",
          "text": [
            "Epoch [8], Train Loss : [0.12914] Val Loss : [1.14805] Val F1 Score : [0.62767]\n"
          ]
        },
        {
          "name": "stderr",
          "output_type": "stream",
          "text": [
            "100%|██████████| 237/237 [01:45<00:00,  2.24it/s]\n",
            "100%|██████████| 60/60 [00:20<00:00,  2.99it/s]\n"
          ]
        },
        {
          "name": "stdout",
          "output_type": "stream",
          "text": [
            "Epoch [9], Train Loss : [0.16233] Val Loss : [1.17710] Val F1 Score : [0.61097]\n"
          ]
        },
        {
          "name": "stderr",
          "output_type": "stream",
          "text": [
            "100%|██████████| 237/237 [01:45<00:00,  2.24it/s]\n",
            "100%|██████████| 60/60 [00:20<00:00,  2.98it/s]\n"
          ]
        },
        {
          "name": "stdout",
          "output_type": "stream",
          "text": [
            "Epoch [10], Train Loss : [0.14505] Val Loss : [1.23432] Val F1 Score : [0.61343]\n"
          ]
        },
        {
          "name": "stderr",
          "output_type": "stream",
          "text": [
            "100%|██████████| 237/237 [01:45<00:00,  2.25it/s]\n",
            "100%|██████████| 60/60 [00:19<00:00,  3.00it/s]\n"
          ]
        },
        {
          "name": "stdout",
          "output_type": "stream",
          "text": [
            "Epoch [11], Train Loss : [0.09442] Val Loss : [1.20218] Val F1 Score : [0.63994]\n"
          ]
        },
        {
          "name": "stderr",
          "output_type": "stream",
          "text": [
            "100%|██████████| 237/237 [01:45<00:00,  2.24it/s]\n",
            "100%|██████████| 60/60 [00:20<00:00,  2.98it/s]\n"
          ]
        },
        {
          "name": "stdout",
          "output_type": "stream",
          "text": [
            "Epoch [12], Train Loss : [0.06348] Val Loss : [1.02137] Val F1 Score : [0.65806]\n"
          ]
        },
        {
          "name": "stderr",
          "output_type": "stream",
          "text": [
            "100%|██████████| 237/237 [01:45<00:00,  2.24it/s]\n",
            "100%|██████████| 60/60 [00:19<00:00,  3.00it/s]\n"
          ]
        },
        {
          "name": "stdout",
          "output_type": "stream",
          "text": [
            "Epoch [13], Train Loss : [0.04397] Val Loss : [1.09913] Val F1 Score : [0.65483]\n"
          ]
        },
        {
          "name": "stderr",
          "output_type": "stream",
          "text": [
            "100%|██████████| 237/237 [01:45<00:00,  2.25it/s]\n",
            "100%|██████████| 60/60 [00:20<00:00,  2.99it/s]\n"
          ]
        },
        {
          "name": "stdout",
          "output_type": "stream",
          "text": [
            "Epoch [14], Train Loss : [0.07489] Val Loss : [1.25103] Val F1 Score : [0.60679]\n"
          ]
        },
        {
          "name": "stderr",
          "output_type": "stream",
          "text": [
            "100%|██████████| 237/237 [01:45<00:00,  2.24it/s]\n",
            "100%|██████████| 60/60 [00:20<00:00,  2.98it/s]\n"
          ]
        },
        {
          "name": "stdout",
          "output_type": "stream",
          "text": [
            "Epoch [15], Train Loss : [0.12446] Val Loss : [1.38974] Val F1 Score : [0.59166]\n"
          ]
        },
        {
          "name": "stderr",
          "output_type": "stream",
          "text": [
            "100%|██████████| 237/237 [01:46<00:00,  2.23it/s]\n",
            "100%|██████████| 60/60 [00:20<00:00,  2.99it/s]\n"
          ]
        },
        {
          "name": "stdout",
          "output_type": "stream",
          "text": [
            "Epoch [16], Train Loss : [0.12059] Val Loss : [1.37060] Val F1 Score : [0.61981]\n"
          ]
        },
        {
          "name": "stderr",
          "output_type": "stream",
          "text": [
            "100%|██████████| 237/237 [01:45<00:00,  2.24it/s]\n",
            "100%|██████████| 60/60 [00:20<00:00,  3.00it/s]\n"
          ]
        },
        {
          "name": "stdout",
          "output_type": "stream",
          "text": [
            "Epoch [17], Train Loss : [0.11946] Val Loss : [1.31073] Val F1 Score : [0.60954]\n"
          ]
        },
        {
          "name": "stderr",
          "output_type": "stream",
          "text": [
            "100%|██████████| 237/237 [01:45<00:00,  2.24it/s]\n",
            "100%|██████████| 60/60 [00:20<00:00,  3.00it/s]\n"
          ]
        },
        {
          "name": "stdout",
          "output_type": "stream",
          "text": [
            "Epoch [18], Train Loss : [0.07214] Val Loss : [1.29832] Val F1 Score : [0.62198]\n"
          ]
        },
        {
          "name": "stderr",
          "output_type": "stream",
          "text": [
            "100%|██████████| 237/237 [01:45<00:00,  2.24it/s]\n",
            "100%|██████████| 60/60 [00:20<00:00,  2.99it/s]\n"
          ]
        },
        {
          "name": "stdout",
          "output_type": "stream",
          "text": [
            "Epoch [19], Train Loss : [0.05132] Val Loss : [1.19107] Val F1 Score : [0.65441]\n"
          ]
        },
        {
          "name": "stderr",
          "output_type": "stream",
          "text": [
            "100%|██████████| 237/237 [01:45<00:00,  2.24it/s]\n",
            "100%|██████████| 60/60 [00:20<00:00,  2.99it/s]"
          ]
        },
        {
          "name": "stdout",
          "output_type": "stream",
          "text": [
            "Epoch [20], Train Loss : [0.04813] Val Loss : [1.20602] Val F1 Score : [0.61129]\n"
          ]
        },
        {
          "name": "stderr",
          "output_type": "stream",
          "text": [
            "\n"
          ]
        }
      ],
      "source": [
        "model = target_model.to(args.device)\n",
        "model.eval()\n",
        "optimizer = torch.optim.Adam(params = model.parameters(), lr = args.lr)\n",
        "\n",
        "scheduler = None\n",
        "# scheduler = torch.optim.lr_scheduler.StepLR(optimizer, step_size=10, gamma=0.5)\n",
        "\n",
        "infer_model = train(model, optimizer, train_loader, val_loader, scheduler, args.device)"
      ]
    },
    {
      "cell_type": "code",
      "execution_count": 16,
      "metadata": {
        "id": "BBVXgh2C8rOJ"
      },
      "outputs": [],
      "source": [
        "torch.save({\n",
        "    'model': infer_model.state_dict(),\n",
        "    'optim': optimizer.state_dict()\n",
        "}, args.save_name + '.tar')"
      ]
    },
    {
      "cell_type": "code",
      "execution_count": 17,
      "metadata": {
        "id": "f6a79LicdNgz"
      },
      "outputs": [],
      "source": [
        "test_df = pd.read_csv(args.data_path + 'test.csv')"
      ]
    },
    {
      "cell_type": "code",
      "execution_count": 18,
      "metadata": {
        "id": "PTb7CbJiSSdU"
      },
      "outputs": [],
      "source": [
        "test_img_paths = U.get_data(test_df, infer=True)"
      ]
    },
    {
      "cell_type": "code",
      "execution_count": 19,
      "metadata": {
        "id": "4SW1S_pAdK73"
      },
      "outputs": [],
      "source": [
        "test_dataset = CustomDataset(args.data_path, test_img_paths, None, test_transform)\n",
        "test_loader = DataLoader(test_dataset, batch_size=args.batch_size, shuffle=False, num_workers=0)"
      ]
    },
    {
      "cell_type": "code",
      "execution_count": 20,
      "metadata": {
        "id": "jUZ3-g2odTsQ"
      },
      "outputs": [],
      "source": [
        "def inference(model, test_loader, device):\n",
        "    model.to(device)\n",
        "    model.eval()\n",
        "    \n",
        "    model_preds = []\n",
        "    \n",
        "    with torch.no_grad():\n",
        "        for item in tqdm(iter(test_loader)):\n",
        "            img = item['image'].float().to(device)\n",
        "            h = item['height']\n",
        "            w = item['width']\n",
        "            \n",
        "            model_pred = model(img)\n",
        "            model_preds += model_pred.argmax(1).detach().cpu().numpy().tolist()\n",
        "    \n",
        "    print('Done.')\n",
        "    return model_preds"
      ]
    },
    {
      "cell_type": "code",
      "execution_count": 21,
      "metadata": {
        "colab": {
          "base_uri": "https://localhost:8080/"
        },
        "id": "IJIDPbqodc0W",
        "outputId": "1edccbbd-26b8-4ef5-80a9-e38b70c996ce"
      },
      "outputs": [
        {
          "name": "stderr",
          "output_type": "stream",
          "text": [
            "100%|██████████| 634/634 [01:48<00:00,  5.85it/s]"
          ]
        },
        {
          "name": "stdout",
          "output_type": "stream",
          "text": [
            "Done.\n"
          ]
        },
        {
          "name": "stderr",
          "output_type": "stream",
          "text": [
            "\n"
          ]
        }
      ],
      "source": [
        "preds = inference(infer_model, test_loader, args.device)"
      ]
    },
    {
      "cell_type": "code",
      "execution_count": 22,
      "metadata": {
        "id": "cNrooHhpdf6u"
      },
      "outputs": [],
      "source": [
        "preds = le.inverse_transform(preds) "
      ]
    },
    {
      "cell_type": "code",
      "execution_count": 23,
      "metadata": {
        "id": "CehyPJCGdjUG"
      },
      "outputs": [],
      "source": [
        "submit = pd.read_csv(args.data_path + 'sample_submission.csv')"
      ]
    },
    {
      "cell_type": "code",
      "execution_count": 24,
      "metadata": {
        "colab": {
          "base_uri": "https://localhost:8080/",
          "height": 206
        },
        "id": "TlwvKxHhdldl",
        "outputId": "fe15db16-94f7-432e-e479-6564f4a73211"
      },
      "outputs": [
        {
          "data": {
            "text/html": [
              "<div>\n",
              "<style scoped>\n",
              "    .dataframe tbody tr th:only-of-type {\n",
              "        vertical-align: middle;\n",
              "    }\n",
              "\n",
              "    .dataframe tbody tr th {\n",
              "        vertical-align: top;\n",
              "    }\n",
              "\n",
              "    .dataframe thead th {\n",
              "        text-align: right;\n",
              "    }\n",
              "</style>\n",
              "<table border=\"1\" class=\"dataframe\">\n",
              "  <thead>\n",
              "    <tr style=\"text-align: right;\">\n",
              "      <th></th>\n",
              "      <th>id</th>\n",
              "      <th>artist</th>\n",
              "    </tr>\n",
              "  </thead>\n",
              "  <tbody>\n",
              "    <tr>\n",
              "      <th>0</th>\n",
              "      <td>TEST_00000</td>\n",
              "      <td>Edgar Degas</td>\n",
              "    </tr>\n",
              "    <tr>\n",
              "      <th>1</th>\n",
              "      <td>TEST_00001</td>\n",
              "      <td>Amedeo Modigliani</td>\n",
              "    </tr>\n",
              "    <tr>\n",
              "      <th>2</th>\n",
              "      <td>TEST_00002</td>\n",
              "      <td>Eugene Delacroix</td>\n",
              "    </tr>\n",
              "    <tr>\n",
              "      <th>3</th>\n",
              "      <td>TEST_00003</td>\n",
              "      <td>Albrecht Du rer</td>\n",
              "    </tr>\n",
              "    <tr>\n",
              "      <th>4</th>\n",
              "      <td>TEST_00004</td>\n",
              "      <td>Vincent van Gogh</td>\n",
              "    </tr>\n",
              "  </tbody>\n",
              "</table>\n",
              "</div>"
            ],
            "text/plain": [
              "           id             artist\n",
              "0  TEST_00000        Edgar Degas\n",
              "1  TEST_00001  Amedeo Modigliani\n",
              "2  TEST_00002   Eugene Delacroix\n",
              "3  TEST_00003    Albrecht Du rer\n",
              "4  TEST_00004   Vincent van Gogh"
            ]
          },
          "execution_count": 24,
          "metadata": {},
          "output_type": "execute_result"
        }
      ],
      "source": [
        "submit['artist'] = preds\n",
        "submit.head()"
      ]
    },
    {
      "cell_type": "code",
      "execution_count": 25,
      "metadata": {
        "id": "v1vCQWm6dp-7"
      },
      "outputs": [],
      "source": [
        "submit.to_csv('./' + args.save_name + '.csv', index=False)"
      ]
    },
    {
      "cell_type": "code",
      "execution_count": 26,
      "metadata": {
        "colab": {
          "base_uri": "https://localhost:8080/"
        },
        "id": "krjoD2lBGV9v",
        "outputId": "39c4d23a-5df6-414d-d961-aa8c4eee09a3"
      },
      "outputs": [
        {
          "data": {
            "text/plain": [
              "5284823040"
            ]
          },
          "execution_count": 26,
          "metadata": {},
          "output_type": "execute_result"
        }
      ],
      "source": [
        "torch.cuda.memory_reserved()"
      ]
    },
    {
      "cell_type": "code",
      "execution_count": 27,
      "metadata": {
        "id": "59aZPa8mHE5q"
      },
      "outputs": [],
      "source": [
        "torch.cuda.empty_cache()"
      ]
    },
    {
      "cell_type": "code",
      "execution_count": null,
      "metadata": {},
      "outputs": [],
      "source": []
    }
  ],
  "metadata": {
    "accelerator": "GPU",
    "colab": {
      "collapsed_sections": [],
      "provenance": []
    },
    "gpuClass": "premium",
    "kernelspec": {
      "display_name": "Python 3.7.13 ('base')",
      "language": "python",
      "name": "python3"
    },
    "language_info": {
      "codemirror_mode": {
        "name": "ipython",
        "version": 3
      },
      "file_extension": ".py",
      "mimetype": "text/x-python",
      "name": "python",
      "nbconvert_exporter": "python",
      "pygments_lexer": "ipython3",
      "version": "3.7.13"
    },
    "vscode": {
      "interpreter": {
        "hash": "d4d1e4263499bec80672ea0156c357c1ee493ec2b1c70f0acce89fc37c4a6abe"
      }
    },
    "widgets": {
      "application/vnd.jupyter.widget-state+json": {
        "048522454c2047b4a3e1e1edb0263e55": {
          "model_module": "@jupyter-widgets/base",
          "model_module_version": "1.2.0",
          "model_name": "LayoutModel",
          "state": {
            "_model_module": "@jupyter-widgets/base",
            "_model_module_version": "1.2.0",
            "_model_name": "LayoutModel",
            "_view_count": null,
            "_view_module": "@jupyter-widgets/base",
            "_view_module_version": "1.2.0",
            "_view_name": "LayoutView",
            "align_content": null,
            "align_items": null,
            "align_self": null,
            "border": null,
            "bottom": null,
            "display": null,
            "flex": null,
            "flex_flow": null,
            "grid_area": null,
            "grid_auto_columns": null,
            "grid_auto_flow": null,
            "grid_auto_rows": null,
            "grid_column": null,
            "grid_gap": null,
            "grid_row": null,
            "grid_template_areas": null,
            "grid_template_columns": null,
            "grid_template_rows": null,
            "height": null,
            "justify_content": null,
            "justify_items": null,
            "left": null,
            "margin": null,
            "max_height": null,
            "max_width": null,
            "min_height": null,
            "min_width": null,
            "object_fit": null,
            "object_position": null,
            "order": null,
            "overflow": null,
            "overflow_x": null,
            "overflow_y": null,
            "padding": null,
            "right": null,
            "top": null,
            "visibility": null,
            "width": null
          }
        },
        "286a6e7a9c8a4e7498850715ef377b07": {
          "model_module": "@jupyter-widgets/controls",
          "model_module_version": "1.5.0",
          "model_name": "HTMLModel",
          "state": {
            "_dom_classes": [],
            "_model_module": "@jupyter-widgets/controls",
            "_model_module_version": "1.5.0",
            "_model_name": "HTMLModel",
            "_view_count": null,
            "_view_module": "@jupyter-widgets/controls",
            "_view_module_version": "1.5.0",
            "_view_name": "HTMLView",
            "description": "",
            "description_tooltip": null,
            "layout": "IPY_MODEL_048522454c2047b4a3e1e1edb0263e55",
            "placeholder": "​",
            "style": "IPY_MODEL_fce015cf399e4c4fa5ce8e53691a0a74",
            "value": "100%"
          }
        },
        "58951227e5f440308ce33a95ff89b887": {
          "model_module": "@jupyter-widgets/base",
          "model_module_version": "1.2.0",
          "model_name": "LayoutModel",
          "state": {
            "_model_module": "@jupyter-widgets/base",
            "_model_module_version": "1.2.0",
            "_model_name": "LayoutModel",
            "_view_count": null,
            "_view_module": "@jupyter-widgets/base",
            "_view_module_version": "1.2.0",
            "_view_name": "LayoutView",
            "align_content": null,
            "align_items": null,
            "align_self": null,
            "border": null,
            "bottom": null,
            "display": null,
            "flex": null,
            "flex_flow": null,
            "grid_area": null,
            "grid_auto_columns": null,
            "grid_auto_flow": null,
            "grid_auto_rows": null,
            "grid_column": null,
            "grid_gap": null,
            "grid_row": null,
            "grid_template_areas": null,
            "grid_template_columns": null,
            "grid_template_rows": null,
            "height": null,
            "justify_content": null,
            "justify_items": null,
            "left": null,
            "margin": null,
            "max_height": null,
            "max_width": null,
            "min_height": null,
            "min_width": null,
            "object_fit": null,
            "object_position": null,
            "order": null,
            "overflow": null,
            "overflow_x": null,
            "overflow_y": null,
            "padding": null,
            "right": null,
            "top": null,
            "visibility": null,
            "width": null
          }
        },
        "75c0cbcd69904d83beeb993098c4b335": {
          "model_module": "@jupyter-widgets/base",
          "model_module_version": "1.2.0",
          "model_name": "LayoutModel",
          "state": {
            "_model_module": "@jupyter-widgets/base",
            "_model_module_version": "1.2.0",
            "_model_name": "LayoutModel",
            "_view_count": null,
            "_view_module": "@jupyter-widgets/base",
            "_view_module_version": "1.2.0",
            "_view_name": "LayoutView",
            "align_content": null,
            "align_items": null,
            "align_self": null,
            "border": null,
            "bottom": null,
            "display": null,
            "flex": null,
            "flex_flow": null,
            "grid_area": null,
            "grid_auto_columns": null,
            "grid_auto_flow": null,
            "grid_auto_rows": null,
            "grid_column": null,
            "grid_gap": null,
            "grid_row": null,
            "grid_template_areas": null,
            "grid_template_columns": null,
            "grid_template_rows": null,
            "height": null,
            "justify_content": null,
            "justify_items": null,
            "left": null,
            "margin": null,
            "max_height": null,
            "max_width": null,
            "min_height": null,
            "min_width": null,
            "object_fit": null,
            "object_position": null,
            "order": null,
            "overflow": null,
            "overflow_x": null,
            "overflow_y": null,
            "padding": null,
            "right": null,
            "top": null,
            "visibility": null,
            "width": null
          }
        },
        "81e45d950a6748adab8355a79b364979": {
          "model_module": "@jupyter-widgets/base",
          "model_module_version": "1.2.0",
          "model_name": "LayoutModel",
          "state": {
            "_model_module": "@jupyter-widgets/base",
            "_model_module_version": "1.2.0",
            "_model_name": "LayoutModel",
            "_view_count": null,
            "_view_module": "@jupyter-widgets/base",
            "_view_module_version": "1.2.0",
            "_view_name": "LayoutView",
            "align_content": null,
            "align_items": null,
            "align_self": null,
            "border": null,
            "bottom": null,
            "display": null,
            "flex": null,
            "flex_flow": null,
            "grid_area": null,
            "grid_auto_columns": null,
            "grid_auto_flow": null,
            "grid_auto_rows": null,
            "grid_column": null,
            "grid_gap": null,
            "grid_row": null,
            "grid_template_areas": null,
            "grid_template_columns": null,
            "grid_template_rows": null,
            "height": null,
            "justify_content": null,
            "justify_items": null,
            "left": null,
            "margin": null,
            "max_height": null,
            "max_width": null,
            "min_height": null,
            "min_width": null,
            "object_fit": null,
            "object_position": null,
            "order": null,
            "overflow": null,
            "overflow_x": null,
            "overflow_y": null,
            "padding": null,
            "right": null,
            "top": null,
            "visibility": null,
            "width": null
          }
        },
        "93d832c02ce8494386a56b050359e831": {
          "model_module": "@jupyter-widgets/controls",
          "model_module_version": "1.5.0",
          "model_name": "FloatProgressModel",
          "state": {
            "_dom_classes": [],
            "_model_module": "@jupyter-widgets/controls",
            "_model_module_version": "1.5.0",
            "_model_name": "FloatProgressModel",
            "_view_count": null,
            "_view_module": "@jupyter-widgets/controls",
            "_view_module_version": "1.5.0",
            "_view_name": "ProgressView",
            "bar_style": "success",
            "description": "",
            "description_tooltip": null,
            "layout": "IPY_MODEL_58951227e5f440308ce33a95ff89b887",
            "max": 49475909,
            "min": 0,
            "orientation": "horizontal",
            "style": "IPY_MODEL_99d59e7b6e14407ba0bb8653f2559fe9",
            "value": 49475909
          }
        },
        "99d59e7b6e14407ba0bb8653f2559fe9": {
          "model_module": "@jupyter-widgets/controls",
          "model_module_version": "1.5.0",
          "model_name": "ProgressStyleModel",
          "state": {
            "_model_module": "@jupyter-widgets/controls",
            "_model_module_version": "1.5.0",
            "_model_name": "ProgressStyleModel",
            "_view_count": null,
            "_view_module": "@jupyter-widgets/base",
            "_view_module_version": "1.2.0",
            "_view_name": "StyleView",
            "bar_color": null,
            "description_width": ""
          }
        },
        "a6405d37ce2e40a0b4b399c229f697c5": {
          "model_module": "@jupyter-widgets/controls",
          "model_module_version": "1.5.0",
          "model_name": "HBoxModel",
          "state": {
            "_dom_classes": [],
            "_model_module": "@jupyter-widgets/controls",
            "_model_module_version": "1.5.0",
            "_model_name": "HBoxModel",
            "_view_count": null,
            "_view_module": "@jupyter-widgets/controls",
            "_view_module_version": "1.5.0",
            "_view_name": "HBoxView",
            "box_style": "",
            "children": [
              "IPY_MODEL_286a6e7a9c8a4e7498850715ef377b07",
              "IPY_MODEL_93d832c02ce8494386a56b050359e831",
              "IPY_MODEL_de37f413369b47e586cf884ac69cb002"
            ],
            "layout": "IPY_MODEL_81e45d950a6748adab8355a79b364979"
          }
        },
        "de37f413369b47e586cf884ac69cb002": {
          "model_module": "@jupyter-widgets/controls",
          "model_module_version": "1.5.0",
          "model_name": "HTMLModel",
          "state": {
            "_dom_classes": [],
            "_model_module": "@jupyter-widgets/controls",
            "_model_module_version": "1.5.0",
            "_model_name": "HTMLModel",
            "_view_count": null,
            "_view_module": "@jupyter-widgets/controls",
            "_view_module_version": "1.5.0",
            "_view_name": "HTMLView",
            "description": "",
            "description_tooltip": null,
            "layout": "IPY_MODEL_75c0cbcd69904d83beeb993098c4b335",
            "placeholder": "​",
            "style": "IPY_MODEL_f801f5145989475fb09a38b02f93cfd7",
            "value": " 47.2M/47.2M [00:00&lt;00:00, 174MB/s]"
          }
        },
        "f801f5145989475fb09a38b02f93cfd7": {
          "model_module": "@jupyter-widgets/controls",
          "model_module_version": "1.5.0",
          "model_name": "DescriptionStyleModel",
          "state": {
            "_model_module": "@jupyter-widgets/controls",
            "_model_module_version": "1.5.0",
            "_model_name": "DescriptionStyleModel",
            "_view_count": null,
            "_view_module": "@jupyter-widgets/base",
            "_view_module_version": "1.2.0",
            "_view_name": "StyleView",
            "description_width": ""
          }
        },
        "fce015cf399e4c4fa5ce8e53691a0a74": {
          "model_module": "@jupyter-widgets/controls",
          "model_module_version": "1.5.0",
          "model_name": "DescriptionStyleModel",
          "state": {
            "_model_module": "@jupyter-widgets/controls",
            "_model_module_version": "1.5.0",
            "_model_name": "DescriptionStyleModel",
            "_view_count": null,
            "_view_module": "@jupyter-widgets/base",
            "_view_module_version": "1.2.0",
            "_view_name": "StyleView",
            "description_width": ""
          }
        }
      }
    }
  },
  "nbformat": 4,
  "nbformat_minor": 0
}
